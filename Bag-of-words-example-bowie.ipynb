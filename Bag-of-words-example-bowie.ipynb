{
 "cells": [
  {
   "cell_type": "code",
   "execution_count": 7,
   "metadata": {},
   "outputs": [
    {
     "name": "stdout",
     "output_type": "stream",
     "text": [
      "Python version: 3.6.5 |Anaconda, Inc.| (default, Apr 26 2018, 08:42:37) \n",
      "[GCC 4.2.1 Compatible Clang 4.0.1 (tags/RELEASE_401/final)]\n",
      "pandas version: 0.23.0\n",
      "NumPy version: 1.14.3\n",
      "IPython version: 6.4.0\n",
      "matplotlib version: 3.0.0\n",
      "SciPy version: 1.1.0\n",
      "scikit-learn version: 0.19.1\n"
     ]
    }
   ],
   "source": [
    "import sys\n",
    "print(\"Python version: {}\".format(sys.version))\n",
    "import pandas as pd\n",
    "from pandas import DataFrame\n",
    "print(\"pandas version: {}\".format(pd.__version__))\n",
    "from preamble import *\n",
    "import numpy as np\n",
    "print(\"NumPy version: {}\".format(np.__version__))\n",
    "\n",
    "import IPython\n",
    "print(\"IPython version: {}\".format(IPython.__version__))\n",
    "\n",
    "\n",
    "from matplotlib.pyplot import *\n",
    "print(\"matplotlib version: {}\".format(matplotlib.__version__))\n",
    "import scipy as sp\n",
    "print(\"SciPy version: {}\".format(sp.__version__))\n",
    "import sklearn\n",
    "print(\"scikit-learn version: {}\".format(sklearn.__version__))\n"
   ]
  },
  {
   "cell_type": "code",
   "execution_count": 8,
   "metadata": {},
   "outputs": [
    {
     "name": "stdout",
     "output_type": "stream",
     "text": [
      "['I love the flowers of the blossom', 'I like the leaves of the oak tree']\n"
     ]
    }
   ],
   "source": [
    "bards_words = [\"I love the flowers of the blossom\",\n",
    "              \"I like the leaves of the oak tree\"]\n",
    "print(bards_words)"
   ]
  },
  {
   "cell_type": "code",
   "execution_count": 9,
   "metadata": {},
   "outputs": [
    {
     "data": {
      "text/plain": [
       "CountVectorizer(analyzer='word', binary=False, decode_error='strict',\n",
       "        dtype=<class 'numpy.int64'>, encoding='utf-8', input='content',\n",
       "        lowercase=True, max_df=1.0, max_features=None, min_df=1,\n",
       "        ngram_range=(1, 1), preprocessor=None, stop_words=None,\n",
       "        strip_accents=None, token_pattern='(?u)\\\\b\\\\w\\\\w+\\\\b',\n",
       "        tokenizer=None, vocabulary=None)"
      ]
     },
     "execution_count": 9,
     "metadata": {},
     "output_type": "execute_result"
    }
   ],
   "source": [
    "# the CountVectorizer holds the bag-of-words representation\n",
    "\n",
    "# import the CountVectorizer\n",
    "from sklearn.feature_extraction.text import CountVectorizer\n",
    "\n",
    "# create a vectorizer\n",
    "vect = CountVectorizer()\n",
    "\n",
    "# fit the vectorizer to our data\n",
    "vect.fit(bards_words)"
   ]
  },
  {
   "cell_type": "code",
   "execution_count": 10,
   "metadata": {},
   "outputs": [
    {
     "name": "stdout",
     "output_type": "stream",
     "text": [
      "Vocabulary size (total number of distinct words found): 9\n",
      "Vocabulary content (each distinct word, including its index, or the number assigned to it):\n",
      "{'love': 4, 'the': 7, 'flowers': 1, 'of': 6, 'blossom': 0, 'like': 3, 'leaves': 2, 'oak': 5, 'tree': 8}\n"
     ]
    }
   ],
   "source": [
    "# fitting the CountVectorizer consists of the tokenization of \n",
    "# the training data and building of the vocabulary, which we \n",
    "# can access as the vocabulary_attribute\n",
    "print(\"Vocabulary size (total number of distinct words found): {}\".format(len(vect.vocabulary_)))\n",
    "print(\"Vocabulary content (each distinct word, including its index, or the number assigned to it):\\n{}\".format(vect.vocabulary_))"
   ]
  },
  {
   "cell_type": "code",
   "execution_count": 11,
   "metadata": {},
   "outputs": [
    {
     "name": "stdout",
     "output_type": "stream",
     "text": [
      "bag_of_words: <2x9 sparse matrix of type '<class 'numpy.int64'>'\n",
      "\twith 11 stored elements in Compressed Sparse Row format>\n"
     ]
    }
   ],
   "source": [
    "# to create a bag of words, call the transform method\n",
    "bag_of_words = vect.transform(bards_words)\n",
    "print(\"bag_of_words: {}\".format(repr(bag_of_words)))"
   ]
  },
  {
   "cell_type": "code",
   "execution_count": 12,
   "metadata": {},
   "outputs": [
    {
     "name": "stdout",
     "output_type": "stream",
     "text": [
      "Dense representation of bag_of_words:\n",
      "[[1 1 0 0 1 0 1 2 0]\n",
      " [0 0 1 1 0 1 1 2 1]]\n"
     ]
    }
   ],
   "source": [
    "# convert to dense Numy parray that also stores all the 0 entries\n",
    "print(\"Dense representation of bag_of_words:\\n{}\".format(bag_of_words.toarray()))\n",
    "\n",
    "# the output represents one array for each sentence that we put in,\n",
    "# in which we find the words ordered in the indexes from the vocabulary content\n",
    "# for each sentence, it will show 1 if the word has been found\n",
    "# eg. for the first sentence, 'blossom' (index 0) is found, while\n",
    "# for the second sentence is has not been found. "
   ]
  },
  {
   "cell_type": "code",
   "execution_count": null,
   "metadata": {},
   "outputs": [],
   "source": []
  }
 ],
 "metadata": {
  "kernelspec": {
   "display_name": "Python 3",
   "language": "python",
   "name": "python3"
  },
  "language_info": {
   "codemirror_mode": {
    "name": "ipython",
    "version": 3
   },
   "file_extension": ".py",
   "mimetype": "text/x-python",
   "name": "python",
   "nbconvert_exporter": "python",
   "pygments_lexer": "ipython3",
   "version": "3.6.5"
  }
 },
 "nbformat": 4,
 "nbformat_minor": 2
}
